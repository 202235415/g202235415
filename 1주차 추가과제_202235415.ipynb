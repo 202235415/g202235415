{
 "cells": [
  {
   "cell_type": "code",
   "execution_count": 171,
   "id": "10493636",
   "metadata": {},
   "outputs": [],
   "source": [
    "from sklearn.datasets import load_breast_cancer\n",
    "\n",
    "import pandas as pd\n",
    "\n",
    "breast_cancer_data = load_breast_cancer()\n",
    "\n",
    "df_data = pd.DataFrame(breast_cancer_data.data)\n",
    "\n",
    "df_labels = pd.DataFrame(breast_cancer_data.target)\n"
   ]
  },
  {
   "cell_type": "code",
   "execution_count": 172,
   "id": "48957d4e",
   "metadata": {},
   "outputs": [
    {
     "name": "stdout",
     "output_type": "stream",
     "text": [
      "      0      1       2       3        4        5        6        7       8   \\\n",
      "0  17.99  10.38  122.80  1001.0  0.11840  0.27760  0.30010  0.14710  0.2419   \n",
      "1  20.57  17.77  132.90  1326.0  0.08474  0.07864  0.08690  0.07017  0.1812   \n",
      "2  19.69  21.25  130.00  1203.0  0.10960  0.15990  0.19740  0.12790  0.2069   \n",
      "3  11.42  20.38   77.58   386.1  0.14250  0.28390  0.24140  0.10520  0.2597   \n",
      "4  20.29  14.34  135.10  1297.0  0.10030  0.13280  0.19800  0.10430  0.1809   \n",
      "5  12.45  15.70   82.57   477.1  0.12780  0.17000  0.15780  0.08089  0.2087   \n",
      "6  18.25  19.98  119.60  1040.0  0.09463  0.10900  0.11270  0.07400  0.1794   \n",
      "7  13.71  20.83   90.20   577.9  0.11890  0.16450  0.09366  0.05985  0.2196   \n",
      "8  13.00  21.82   87.50   519.8  0.12730  0.19320  0.18590  0.09353  0.2350   \n",
      "9  12.46  24.04   83.97   475.9  0.11860  0.23960  0.22730  0.08543  0.2030   \n",
      "\n",
      "        9   ...     20     21      22      23      24      25      26      27  \\\n",
      "0  0.07871  ...  25.38  17.33  184.60  2019.0  0.1622  0.6656  0.7119  0.2654   \n",
      "1  0.05667  ...  24.99  23.41  158.80  1956.0  0.1238  0.1866  0.2416  0.1860   \n",
      "2  0.05999  ...  23.57  25.53  152.50  1709.0  0.1444  0.4245  0.4504  0.2430   \n",
      "3  0.09744  ...  14.91  26.50   98.87   567.7  0.2098  0.8663  0.6869  0.2575   \n",
      "4  0.05883  ...  22.54  16.67  152.20  1575.0  0.1374  0.2050  0.4000  0.1625   \n",
      "5  0.07613  ...  15.47  23.75  103.40   741.6  0.1791  0.5249  0.5355  0.1741   \n",
      "6  0.05742  ...  22.88  27.66  153.20  1606.0  0.1442  0.2576  0.3784  0.1932   \n",
      "7  0.07451  ...  17.06  28.14  110.60   897.0  0.1654  0.3682  0.2678  0.1556   \n",
      "8  0.07389  ...  15.49  30.73  106.20   739.3  0.1703  0.5401  0.5390  0.2060   \n",
      "9  0.08243  ...  15.09  40.68   97.65   711.4  0.1853  1.0580  1.1050  0.2210   \n",
      "\n",
      "       28       29  \n",
      "0  0.4601  0.11890  \n",
      "1  0.2750  0.08902  \n",
      "2  0.3613  0.08758  \n",
      "3  0.6638  0.17300  \n",
      "4  0.2364  0.07678  \n",
      "5  0.3985  0.12440  \n",
      "6  0.3063  0.08368  \n",
      "7  0.3196  0.11510  \n",
      "8  0.4378  0.10720  \n",
      "9  0.4366  0.20750  \n",
      "\n",
      "[10 rows x 30 columns]\n",
      "   0\n",
      "0  0\n",
      "1  0\n",
      "2  0\n",
      "3  0\n",
      "4  0\n",
      "5  0\n",
      "6  0\n",
      "7  0\n",
      "8  0\n",
      "9  0\n"
     ]
    }
   ],
   "source": [
    "print(df_data[:10])\n",
    "print(df_labels[:10])"
   ]
  },
  {
   "cell_type": "code",
   "execution_count": 173,
   "id": "9da39818",
   "metadata": {},
   "outputs": [
    {
     "name": "stdout",
     "output_type": "stream",
     "text": [
      "['malignant' 'benign']\n"
     ]
    }
   ],
   "source": [
    "print(breast_cancer_data.target_names)"
   ]
  },
  {
   "cell_type": "code",
   "execution_count": 174,
   "id": "763ebdc1",
   "metadata": {},
   "outputs": [],
   "source": [
    "from sklearn.model_selection import train_test_split\n",
    "\n",
    "X_train, X_test, y_train, y_test = train_test_split(df_data, df_labels, \n",
    "                                                      test_size=0.2, shuffle=False, random_state=1000)\n"
   ]
  },
  {
   "cell_type": "code",
   "execution_count": 175,
   "id": "722b245f",
   "metadata": {},
   "outputs": [
    {
     "name": "stdout",
     "output_type": "stream",
     "text": [
      "X_train.shape : (455, 30)\n",
      "y_train.shape : (455, 1)\n",
      "X_test.shape: (114, 30)\n",
      "y_test.shape: (114, 1)\n"
     ]
    }
   ],
   "source": [
    "print(\"X_train.shape :\", X_train.shape)\n",
    "\n",
    "print(\"y_train.shape :\", y_train.shape)\n",
    "\n",
    "print(\"X_test.shape:\", X_test.shape)\n",
    "\n",
    "print(\"y_test.shape:\", y_test.shape)\n",
    "\n"
   ]
  },
  {
   "cell_type": "code",
   "execution_count": 176,
   "id": "257e9dc0",
   "metadata": {},
   "outputs": [
    {
     "name": "stderr",
     "output_type": "stream",
     "text": [
      "C:\\Users\\test4\\anaconda3\\lib\\site-packages\\sklearn\\neighbors\\_classification.py:198: DataConversionWarning: A column-vector y was passed when a 1d array was expected. Please change the shape of y to (n_samples,), for example using ravel().\n",
      "  return self._fit(X, y)\n"
     ]
    },
    {
     "data": {
      "text/plain": [
       "KNeighborsClassifier(n_neighbors=3)"
      ]
     },
     "execution_count": 176,
     "metadata": {},
     "output_type": "execute_result"
    }
   ],
   "source": [
    "from sklearn.neighbors import KNeighborsClassifier\n",
    "\n",
    "mymodel = KNeighborsClassifier(n_neighbors=3)\n",
    "\n",
    "mymodel.fit(X_train, y_train)"
   ]
  },
  {
   "cell_type": "code",
   "execution_count": 177,
   "id": "750d45ca",
   "metadata": {
    "scrolled": true
   },
   "outputs": [
    {
     "name": "stderr",
     "output_type": "stream",
     "text": [
      "C:\\Users\\test4\\anaconda3\\lib\\site-packages\\sklearn\\neighbors\\_classification.py:228: FutureWarning: Unlike other reduction functions (e.g. `skew`, `kurtosis`), the default behavior of `mode` typically preserves the axis it acts along. In SciPy 1.11.0, this behavior will change: the default value of `keepdims` will become False, the `axis` over which the statistic is taken will be eliminated, and the value None will no longer be accepted. Set `keepdims` to True or False to avoid this warning.\n",
      "  mode, _ = stats.mode(_y[neigh_ind, k], axis=1)\n",
      "C:\\Users\\test4\\anaconda3\\lib\\site-packages\\sklearn\\neighbors\\_classification.py:228: FutureWarning: Unlike other reduction functions (e.g. `skew`, `kurtosis`), the default behavior of `mode` typically preserves the axis it acts along. In SciPy 1.11.0, this behavior will change: the default value of `keepdims` will become False, the `axis` over which the statistic is taken will be eliminated, and the value None will no longer be accepted. Set `keepdims` to True or False to avoid this warning.\n",
      "  mode, _ = stats.mode(_y[neigh_ind, k], axis=1)\n"
     ]
    },
    {
     "data": {
      "text/plain": [
       "0.9298245614035088"
      ]
     },
     "execution_count": 177,
     "metadata": {},
     "output_type": "execute_result"
    }
   ],
   "source": [
    "#예측\n",
    "\n",
    "prediction = mymodel.predict(X_test)\n",
    "\n",
    "mymodel.score(X_test, y_test)\n",
    "\n",
    "\n"
   ]
  },
  {
   "cell_type": "code",
   "execution_count": 178,
   "id": "025cf98b",
   "metadata": {},
   "outputs": [
    {
     "data": {
      "text/plain": [
       "' KNN 알고리즘 시행 시 변동될 수 있는 변수들을 고려 후 다양성을 더 높일 수 있는 방향으로 조정해본 결과 Accuracy가 향상될 수 있음을 확인함.'"
      ]
     },
     "execution_count": 178,
     "metadata": {},
     "output_type": "execute_result"
    }
   ],
   "source": [
    "## Accuracy를 높일 수 있는 방안##\n",
    "\n",
    " # 1. shuffle의 유무 => split 함수에서 shuffle = True로 바꿀 시 score 값 = 0.9473684210526315\n",
    " # 2. random_state 값 조정 => random_state = 1000 -> 1500 조정 시 score 값 = 0.956140350877193 (shuffle = True 설정)\n",
    " # 3. K값 조정 => n_neighbors 매개변수 값 3 -> 10 조정 시 score 값 = 0.9473684210526315\n",
    " # 4. 훈련과 테스트 데이터 분할 비율 조정 => split 함수에서 test_size= 0.2 -> 0.25로 조정 시 score 값= 0.9300699300699301\n",
    "\n",
    "' KNN 알고리즘 시행 시 변동될 수 있는 변수들을 고려 후 다양성을 더 높일 수 있는 방향으로 조정해본 결과 Accuracy가 향상될 수 있음을 확인함.'\n",
    "\n"
   ]
  },
  {
   "cell_type": "code",
   "execution_count": null,
   "id": "e6ef775c",
   "metadata": {},
   "outputs": [],
   "source": []
  }
 ],
 "metadata": {
  "kernelspec": {
   "display_name": "Python 3 (ipykernel)",
   "language": "python",
   "name": "python3"
  },
  "language_info": {
   "codemirror_mode": {
    "name": "ipython",
    "version": 3
   },
   "file_extension": ".py",
   "mimetype": "text/x-python",
   "name": "python",
   "nbconvert_exporter": "python",
   "pygments_lexer": "ipython3",
   "version": "3.9.13"
  }
 },
 "nbformat": 4,
 "nbformat_minor": 5
}
